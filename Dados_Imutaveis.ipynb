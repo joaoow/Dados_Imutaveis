{
  "nbformat": 4,
  "nbformat_minor": 0,
  "metadata": {
    "colab": {
      "provenance": []
    },
    "kernelspec": {
      "name": "python3",
      "display_name": "Python 3"
    },
    "language_info": {
      "name": "python"
    }
  },
  "cells": [
    {
      "cell_type": "code",
      "source": [
        "# script funcao1.py\n",
        "valor = 20\n",
        "\n",
        "#multiplica o valor digitado por 20, e multiplica o resultado por pelo valor digitado\n",
        "def multiplica(fator):\n",
        "    global valor\n",
        "    valor = valor * fator\n",
        "    print(\"Resultado\", valor)\n",
        "\n",
        "def main():\n",
        "    numero =int(input())\n",
        "    multiplica(numero)\n",
        "    multiplica(numero)\n",
        "\n",
        "if __name__ == \"__main__\":\n",
        "    main()\n",
        "\n",
        "\n",
        "# Quando um script python é executado, a variável reservada\n",
        "# NAME referente a ele tem valor igual à \"__main__\".\n",
        "# Nesse caso, a condição do IF a seguir será TRUE,\n",
        "# então o que está no corpo do IF será executado.\n",
        "# No caso, é um chamado ao método main do script\n"
      ],
      "metadata": {
        "colab": {
          "base_uri": "https://localhost:8080/"
        },
        "id": "4buXURDGigmj",
        "outputId": "9e6ddd49-55fb-49d0-8314-48dda3158fb7"
      },
      "execution_count": 3,
      "outputs": [
        {
          "output_type": "stream",
          "name": "stdout",
          "text": [
            "4\n",
            "Resultado 80\n",
            "Resultado 320\n"
          ]
        }
      ]
    },
    {
      "cell_type": "code",
      "source": [
        "# script funcao3.py\n",
        "# captando os valores do campo Input\n",
        "valores = input()\n",
        "# separando os valores pelo espaço em branco e\n",
        "# transformando-os em uma lista de inteiros\n",
        "valores = [int(i) for i in valores.split()]\n",
        "\n",
        "def altera_lista(lista):\n",
        "    lista[2] = lista[2] + 10\n",
        "    return lista\n",
        "\n",
        "def main():\n",
        "    print(\"Nova lista\", altera_lista(valores))\n",
        "    print(\"Nova lista\", altera_lista(valores))\n",
        "\n",
        "if __name__ == \"__main__\":\n",
        "    main()\n"
      ],
      "metadata": {
        "colab": {
          "base_uri": "https://localhost:8080/"
        },
        "id": "fa1V2n0Eokja",
        "outputId": "42957cb8-a8d9-4823-c9b2-43becb170c88"
      },
      "execution_count": 2,
      "outputs": [
        {
          "output_type": "stream",
          "name": "stdout",
          "text": [
            "2 5 7\n",
            "Nova lista [2, 5, 17]\n",
            "Nova lista [2, 5, 27]\n"
          ]
        }
      ]
    }
  ]
}